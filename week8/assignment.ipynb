{
 "cells": [
  {
   "cell_type": "markdown",
   "metadata": {
    "collapsed": false
   },
   "source": [
    "## Masking and Visualizing fMRI data "
   ]
  },
  {
   "cell_type": "code",
   "execution_count": null,
   "metadata": {
    "collapsed": false
   },
   "outputs": [],
   "source": [
    "# Packages we will use\n",
    "import nibabel\n",
    "import numpy as np\n",
    "import matplotlib.pylab as plt\n",
    "import scipy \n",
    "import numpy as np\n",
    "\n",
    "%matplotlib widget"
   ]
  },
  {
   "cell_type": "markdown",
   "metadata": {},
   "source": [
    "Write a function that computes the average timecourse of a data set for 10 samples after each condition onset. The inputs to the function should be `data` and `onsets`, and the output for the function for the above example dummy data should be an array of size [10 x 30] (10 time points per voxel). "
   ]
  },
  {
   "cell_type": "markdown",
   "metadata": {},
   "source": [
    "1. Last week you wrote a function that loads fMRI data from a nifti file. Expand this function to have the following arguments: \n",
    "    - to convert the timecourse for each voxel to standard scores, \n",
    "    - and to mask the data. "
   ]
  },
  {
   "cell_type": "code",
   "execution_count": null,
   "metadata": {
    "collapsed": true
   },
   "outputs": [],
   "source": [
    "## STUDENT ANSWER\n",
    "\n",
    "# Loading fMRI data\n",
    "def load_fmri_data(fname, mask=None, standardize=True):\n",
    "    # Do stuff\n",
    "    \n",
    "    return data # as a 4D or 2D array"
   ]
  },
  {
   "cell_type": "code",
   "execution_count": null,
   "metadata": {
    "collapsed": true
   },
   "outputs": [],
   "source": [
    "## STUDENT ANSWER\n",
    "\n",
    "# Demonstrate that this works\n",
    "fname = '../../data/fMRI/categories/s01_categories_01.nii.gz'\n",
    "mask_fname = '../../data/fMRI/categories/s01_categories_mask_cortical.npz'"
   ]
  },
  {
   "cell_type": "markdown",
   "metadata": {},
   "source": [
    "\n",
    "2. Write a function (as general as possible) to unmask data. You should be able to apply this unmasking function to 1D data (to retrieve a single volume) or to 2D data (to retrieve a 4D volume timecourse)."
   ]
  },
  {
   "cell_type": "code",
   "execution_count": null,
   "metadata": {
    "collapsed": true
   },
   "outputs": [],
   "source": [
    "## STUDENT ANSWER\n",
    "\n",
    "# Unmasking data\n",
    "def unmask_data(data, mask):\n",
    "    # Do stuff\n",
    "    \n",
    "    return data_unmasked # 3D or 4D data"
   ]
  },
  {
   "cell_type": "code",
   "execution_count": null,
   "metadata": {
    "collapsed": true
   },
   "outputs": [],
   "source": [
    "## STUDENT ANSWER\n",
    "\n",
    "# Demonstrate that this works"
   ]
  },
  {
   "cell_type": "markdown",
   "metadata": {},
   "source": [
    "3. In a real experiment, you often end up with data (in a [time x voxels] array) that you want to interpret in terms of events in the world (say, stimulus onset times). Onset times take the form of a vector of indices or times. Here's a dummy example:"
   ]
  },
  {
   "cell_type": "code",
   "execution_count": null,
   "metadata": {},
   "outputs": [],
   "source": [
    "n_tps = 200 \n",
    "n_voxels = 30 \n",
    "data = np.random.randn(n_tps, n_voxels)\n",
    "\n",
    "onsets = range(5, n_tps, 20)\n",
    "print(list(onsets))"
   ]
  },
  {
   "cell_type": "markdown",
   "metadata": {},
   "source": [
    "Write a function that computes the average timecourse of a data set for 10 samples after each condition onset. The inputs to the function should be `data` and `onsets`, and the output for the function for the above example dummy data should be an array of size [10 x 30] (10 time points per voxel). "
   ]
  },
  {
   "cell_type": "code",
   "execution_count": null,
   "metadata": {
    "collapsed": true
   },
   "outputs": [],
   "source": [
    "## STUDENT ANSWER\n",
    "\n",
    "def event_avg(data, onsets, n_timepoints=10):\n",
    "    # Do stuff\n",
    "    \n",
    "    return tc_avg # data averaged over repeats of a condition for n_timepoints after condition onsets"
   ]
  },
  {
   "cell_type": "code",
   "execution_count": null,
   "metadata": {
    "collapsed": true
   },
   "outputs": [],
   "source": [
    "## STUDENT ANSWER\n",
    "\n",
    "# Demonstrate that this works\n",
    "\n"
   ]
  }
 ],
 "metadata": {
  "kernelspec": {
   "display_name": "Python 3",
   "language": "python",
   "name": "python3"
  },
  "language_info": {
   "codemirror_mode": {
    "name": "ipython",
    "version": 3
   },
   "file_extension": ".py",
   "mimetype": "text/x-python",
   "name": "python",
   "nbconvert_exporter": "python",
   "pygments_lexer": "ipython3",
   "version": "3.5.2"
  }
 },
 "nbformat": 4,
 "nbformat_minor": 0
}
