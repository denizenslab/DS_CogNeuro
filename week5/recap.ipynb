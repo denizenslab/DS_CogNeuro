{
 "cells": [
  {
   "cell_type": "markdown",
   "metadata": {},
   "source": [
    "# This is a quick recap from a few points in last week.\n",
    "Here we'll cover some points that are confusing to people, as well as issues people were tripping on in the homeworks.\n",
    "\n",
    "## Quick notes\n",
    "### Embedding images in jupyter notebooks\n",
    "Jupyter notebooks appear to have problems embedding plotted images when they're called with the interactive `%matplotlib widget` mode activated. We need to see your plots in order to determine if you're getting the correct results. This won't affect your scores for the previous weeks of data, but in the future you need to embed the plots before downloading as PDF (or ipynb).\n",
    "\n",
    "**To embed a plot in the PDF** make sure you call `%matplotlib inline` at the beginning of the cell used to make the plot. If the whole point of the cell is to browse data interactively, then don't worry about it and just use `%matplotlib widget`. If you're making a static plot (such as a data plot that doesn't use MNE's interactive browser), then use `%matplotlib inline`.\n",
    "\n",
    "In general, use `%matplotlib inline` at the beginning of any notebook. When you want to plot something interactively, call `%matplotlib widget`, look at the plot, then call `%matplotlib inline` right after.\n",
    "\n",
    "### Answering free-form questions\n",
    "Sometimes we ask you more \"free form\" questions that ask for your interpretation of the data or results. In this case, write your answer as a commented code block, e.g. like this:\n",
    "\n",
    "```\n",
    "# This is a commented\n",
    "# code block, you can write\n",
    "# multiple lines and comment\n",
    "# them out with #\n",
    "\n",
    "```\n",
    "\n",
    "If you tried hard and couldn't get your code to work, then in this section write out what seems to be the error, what you tried, and why you think the code is broken.\n",
    "\n",
    "### If you're getting an error with your code, keep it printed when you download the notebook\n",
    "That way we can help find common problem points for students and debug them.\n",
    "\n",
    "## Reminders and confusion points:\n",
    "Now we'll cover some specific points that have been confusing people:"
   ]
  },
  {
   "cell_type": "code",
   "execution_count": null,
   "metadata": {
    "collapsed": true
   },
   "outputs": [],
   "source": [
    "import neurods as nds\n",
    "import mne\n",
    "import datascience as ds\n",
    "from glob import glob\n",
    "import matplotlib.pyplot as plt\n",
    "%matplotlib inline"
   ]
  },
  {
   "cell_type": "markdown",
   "metadata": {},
   "source": [
    "### Preload your data when you load it into python:"
   ]
  },
  {
   "cell_type": "code",
   "execution_count": null,
   "metadata": {
    "collapsed": false
   },
   "outputs": [],
   "source": [
    "raw = mne.io.Raw('../../data/eeg/mne_sample/mne_sample-raw.fif')\n",
    "raw"
   ]
  },
  {
   "cell_type": "code",
   "execution_count": null,
   "metadata": {
    "collapsed": false
   },
   "outputs": [],
   "source": [
    "raw = mne.io.Raw('../../data/eeg/mne_sample/mne_sample-raw.fif', preload=True)\n",
    "raw"
   ]
  },
  {
   "cell_type": "markdown",
   "metadata": {},
   "source": [
    "### When you get errors that say things like `list has no method 'plot'`, it means you've got a list/tuple of objects rather than the object itself assigned to a variable.\n",
    "This often occurs with the `plt.subplots` function, which gives you a list of **2 things**: the figure object, and the axis object:"
   ]
  },
  {
   "cell_type": "code",
   "execution_count": null,
   "metadata": {
    "collapsed": false
   },
   "outputs": [],
   "source": [
    "f = plt.subplots()\n",
    "f.plot(range(10))"
   ]
  },
  {
   "cell_type": "code",
   "execution_count": null,
   "metadata": {
    "collapsed": false
   },
   "outputs": [],
   "source": [
    "type(f)"
   ]
  },
  {
   "cell_type": "code",
   "execution_count": null,
   "metadata": {
    "collapsed": false
   },
   "outputs": [],
   "source": [
    "f = plt.subplots()\n",
    "f[1].plot(range(10))"
   ]
  },
  {
   "cell_type": "code",
   "execution_count": null,
   "metadata": {
    "collapsed": false
   },
   "outputs": [],
   "source": [
    "# This is why it's better to unpack these when you load them:\n",
    "f, ax = plt.subplots()\n",
    "ax.plot(range(10))"
   ]
  },
  {
   "cell_type": "markdown",
   "metadata": {},
   "source": [
    "### Sampling Frequency\n",
    "There is still a bit of confusion regarding what the sampling frequency really means. Let's dig into it a little bit more here.\n",
    "\n",
    "The main challenge with recording signals from the brain is that our brain activity varies constantly - it emits an electrical signal that is continuous and analog, there is no \"discretization\" or \"chunking\" of this signal, it's simply there.\n",
    "\n",
    "However, in order for us to store the signal on a computer, it must be recorded in little chunks of data, or digitized. We can sample the value of the signal, and store that as a single number in the computer.\n",
    "\n",
    "The sampling frequency is simply how often we store a chunk of data from the continuously varying signal. For example, let's say that we've recorded the following neural signal:"
   ]
  },
  {
   "cell_type": "code",
   "execution_count": null,
   "metadata": {
    "collapsed": false
   },
   "outputs": [],
   "source": [
    "glob('../../data/eeg/mne_sample/*')"
   ]
  },
  {
   "cell_type": "code",
   "execution_count": null,
   "metadata": {
    "collapsed": false
   },
   "outputs": [],
   "source": [
    "# We'll just take one channel of data\n",
    "data = ds.Table().with_columns([('ch_value', raw._data[0])])\n",
    "sfreq = raw.info['sfreq']"
   ]
  },
  {
   "cell_type": "code",
   "execution_count": null,
   "metadata": {
    "collapsed": false,
    "scrolled": true
   },
   "outputs": [],
   "source": [
    "data.take(range(int(sfreq) * 5)).plot()"
   ]
  },
  {
   "cell_type": "markdown",
   "metadata": {},
   "source": [
    "> * What's the sampling frequency of the data?\n",
    "> * How could we reduce the sampling frequency of the data?\n",
    "> * What problems might we introduce if we reduced the sampling frequency by too much?"
   ]
  }
 ],
 "metadata": {
  "kernelspec": {
   "display_name": "Python 3",
   "language": "python",
   "name": "python3"
  },
  "language_info": {
   "codemirror_mode": {
    "name": "ipython",
    "version": 3
   },
   "file_extension": ".py",
   "mimetype": "text/x-python",
   "name": "python",
   "nbconvert_exporter": "python",
   "pygments_lexer": "ipython3",
   "version": "3.10.14"
  }
 },
 "nbformat": 4,
 "nbformat_minor": 0
}
